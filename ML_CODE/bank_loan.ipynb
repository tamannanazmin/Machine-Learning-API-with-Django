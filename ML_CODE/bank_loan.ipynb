{
  "nbformat": 4,
  "nbformat_minor": 0,
  "metadata": {
    "colab": {
      "provenance": []
    },
    "kernelspec": {
      "name": "python3",
      "display_name": "Python 3"
    },
    "language_info": {
      "name": "python"
    }
  },
  "cells": [
    {
      "cell_type": "code",
      "execution_count": null,
      "metadata": {
        "id": "Ht5Yr7lH1RGN"
      },
      "outputs": [],
      "source": [
        "from sklearn import svm\n",
        "import pandas as pd\n",
        "import numpy as np\n",
        "from sklearn.model_selection import train_test_split\n",
        "from sklearn.metrics import accuracy_score, confusion_matrix\n",
        "from imblearn.over_sampling import SMOTE\n",
        "from sklearn.preprocessing import MinMaxScaler\n",
        "import warnings\n",
        "from collections import Counter\n",
        "warnings.filterwarnings('ignore')\n",
        "import seaborn as sns\n",
        "import matplotlib.pyplot as plt\n",
        "import keras\n",
        "from keras import Sequential\n",
        "from keras.layers import Dense"
      ]
    },
    {
      "cell_type": "code",
      "source": [
        "df=pd.read_csv('/content/bankloan.csv')\n",
        "df=df.dropna()\n",
        "df.isna().any()\n",
        "df=df.drop('Loan_ID',axis=1)\n",
        "df['LoanAmount']=(df['LoanAmount']*1000).astype(int)\n",
        "Counter(df['Loan_Status'])#['Y']/df['Loan_Status'].size"
      ],
      "metadata": {
        "colab": {
          "base_uri": "https://localhost:8080/"
        },
        "id": "nhv_NI4-3a2o",
        "outputId": "799e8448-9044-4236-b446-4fc09aa3e4f7"
      },
      "execution_count": null,
      "outputs": [
        {
          "output_type": "execute_result",
          "data": {
            "text/plain": [
              "Counter({'N': 148, 'Y': 332})"
            ]
          },
          "metadata": {},
          "execution_count": 2
        }
      ]
    },
    {
      "cell_type": "code",
      "source": [
        "pre_y=df['Loan_Status']\n",
        "pre_x=df.drop('Loan_Status', axis=1)\n",
        "dm_x=pd.get_dummies(pre_x)\n",
        "dm_y=pre_y.map(dict(Y=1, N=0))\n",
        "dm_y"
      ],
      "metadata": {
        "colab": {
          "base_uri": "https://localhost:8080/"
        },
        "id": "odAKApkL2z_Z",
        "outputId": "a0fb13fc-c0c6-404f-f103-e6ec0334708d"
      },
      "execution_count": null,
      "outputs": [
        {
          "output_type": "execute_result",
          "data": {
            "text/plain": [
              "1      0\n",
              "2      1\n",
              "3      1\n",
              "4      1\n",
              "5      1\n",
              "      ..\n",
              "609    1\n",
              "610    1\n",
              "611    1\n",
              "612    1\n",
              "613    0\n",
              "Name: Loan_Status, Length: 480, dtype: int64"
            ]
          },
          "metadata": {},
          "execution_count": 3
        }
      ]
    },
    {
      "cell_type": "code",
      "source": [
        "smote= SMOTE(sampling_strategy=0.6)\n",
        "x1,y=smote.fit_resample(dm_x, dm_y)\n",
        "sc=MinMaxScaler()\n",
        "x=sc.fit_transform(x1)"
      ],
      "metadata": {
        "id": "IskzDqEA5eGp"
      },
      "execution_count": null,
      "outputs": []
    },
    {
      "cell_type": "code",
      "source": [
        "x_train, x_test, y_train, y_test=train_test_split(x,y, test_size=0.2, random_state=42, shuffle=True)"
      ],
      "metadata": {
        "id": "_GJ_YpiB7ggH"
      },
      "execution_count": null,
      "outputs": []
    },
    {
      "cell_type": "code",
      "source": [
        "classifier=Sequential()\n",
        "classifier.add(Dense(200, activation='relu',kernel_initializer='random_normal',input_dim=x_test.shape[1]))\n",
        "classifier.add(Dense(400, activation='relu', kernel_initializer='random_normal'))\n",
        "classifier.add(Dense(4, activation='relu',kernel_initializer='random_normal'))\n",
        "classifier.add(Dense(1, activation='sigmoid', kernel_initializer='random_normal'))\n",
        "classifier.compile(optimizer='adam',loss='binary_crossentropy', metrics=['accuracy'])\n",
        "classifier.fit(x_train,y_train,batch_size=20,epochs=100,verbose=0)\n",
        "eval_model=classifier.evaluate(x_train, y_train)\n",
        "eval_model"
      ],
      "metadata": {
        "colab": {
          "base_uri": "https://localhost:8080/"
        },
        "id": "JbhL2eVU73vN",
        "outputId": "b4ef8e16-7863-4cdc-c482-b219e562292c"
      },
      "execution_count": null,
      "outputs": [
        {
          "output_type": "stream",
          "name": "stdout",
          "text": [
            "14/14 [==============================] - 1s 8ms/step - loss: 0.2348 - accuracy: 0.9057\n"
          ]
        },
        {
          "output_type": "execute_result",
          "data": {
            "text/plain": [
              "[0.23478834331035614, 0.9056603908538818]"
            ]
          },
          "metadata": {},
          "execution_count": 6
        }
      ]
    },
    {
      "cell_type": "code",
      "source": [
        "y_pred=classifier.predict(x_test)\n",
        "y_pred=(y_pred>0.58)"
      ],
      "metadata": {
        "id": "eaVFuSf5Itfa"
      },
      "execution_count": null,
      "outputs": []
    },
    {
      "cell_type": "code",
      "source": [
        "from sklearn.metrics import confusion_matrix\n",
        "cm= confusion_matrix(y_test,y_pred)\n",
        "ax=plt.subplot()\n",
        "sns.heatmap(cm, annot=True, ax=ax)\n",
        "\n",
        "ax.set_xlabel('Predicted');\n",
        "ax.set_ylabel('Actual');\n",
        "ax.set_title('confusion_Matrix');\n",
        "ax.xaxis.set_ticklabels(['No','Yes']); ax.yaxis.set_ticklabels"
      ],
      "metadata": {
        "colab": {
          "base_uri": "https://localhost:8080/",
          "height": 312
        },
        "id": "afpd1liWI8xA",
        "outputId": "a7a1f756-ab02-48e5-c41a-aed03f13331e"
      },
      "execution_count": null,
      "outputs": [
        {
          "output_type": "execute_result",
          "data": {
            "text/plain": [
              "<bound method Axis.set_ticklabels of <matplotlib.axis.YAxis object at 0x7f1bd75f1b90>>"
            ]
          },
          "metadata": {},
          "execution_count": 9
        },
        {
          "output_type": "display_data",
          "data": {
            "text/plain": [
              "<Figure size 432x288 with 2 Axes>"
            ],
            "image/png": "[encoded data removed]"
          },
          "metadata": {
            "needs_background": "light"
          }
        }
      ]
    },
    {
      "cell_type": "code",
      "source": [
        "import pickle\n",
        "import joblib\n",
        "filename = 'loan_model.pkl'\n",
        "joblib.dump(classifier, filename)"
      ],
      "metadata": {
        "colab": {
          "base_uri": "https://localhost:8080/"
        },
        "id": "y6N-DCZwLZSt",
        "outputId": "2f71ca0f-b815-4b3f-8a95-9665ddada413"
      },
      "execution_count": null,
      "outputs": [
        {
          "output_type": "execute_result",
          "data": {
            "text/plain": [
              "['loan_model.pkl']"
            ]
          },
          "metadata": {},
          "execution_count": 10
        }
      ]
    },
    {
      "cell_type": "code",
      "source": [
        "from sklearn.model_selection import StratifiedKFold\n",
        "kfold=StratifiedKFold(n_splits=3,shuffle=True, random_state=0)\n",
        "cvscores=[]\n",
        "for train, test in kfold.split(x,y):\n",
        "  model= Sequential()\n",
        "  model.add(Dense(200, input_dim=17, activation='relu'))\n",
        "  model.add(Dense(400,activation='relu'))\n",
        "  model.add(Dense(4,activation='relu'))\n",
        "  model.add(Dense(1, activation='sigmoid'))"
      ],
      "metadata": {
        "id": "50tfMFt9SX8N"
      },
      "execution_count": null,
      "outputs": []
    },
    {
      "cell_type": "code",
      "source": [
        "import pickle\n",
        "import joblib\n",
        "import pandas as pd\n",
        "from sklearn.preprocessing import MinMaxScaler\n",
        "import keras\n",
        "from keras import Sequential\n",
        "from keras.layers import Dense\n",
        "\n",
        " "
      ],
      "metadata": {
        "id": "1ZhM62oWVIxH"
      },
      "execution_count": null,
      "outputs": []
    },
    {
      "cell_type": "code",
      "source": [
        "sc=MinMaxScaler()\n",
        "mdl=joblib.load('/content/loan_model.pkl')\n",
        "x=pd.read_excel('/content/test.xlsx')\n",
        "x_test=sc.fit_transform(x)"
      ],
      "metadata": {
        "id": "6HncI0sOV6wn"
      },
      "execution_count": null,
      "outputs": []
    },
    {
      "cell_type": "code",
      "source": [
        "y_pred=mdl.predict(x_test)\n",
        "y_pred=(y_pred)>0.58"
      ],
      "metadata": {
        "id": "rqUjVoh8i2fk"
      },
      "execution_count": null,
      "outputs": []
    },
    {
      "cell_type": "code",
      "source": [
        "val=pd.DataFrame(y_pred, columns=['Status'])\n",
        "val=val.replace({True: 'Approved', False: 'Rejected'})\n",
        "val\n"
      ],
      "metadata": {
        "colab": {
          "base_uri": "https://localhost:8080/",
          "height": 426
        },
        "id": "g7YEVloijUDO",
        "outputId": "6979e7b8-cf88-4ef0-bce6-2cdae3a02c5a"
      },
      "execution_count": null,
      "outputs": [
        {
          "output_type": "execute_result",
          "data": {
            "text/plain": [
              "      Status\n",
              "0   Rejected\n",
              "1   Approved\n",
              "2   Approved\n",
              "3   Rejected\n",
              "4   Approved\n",
              "5   Rejected\n",
              "6   Approved\n",
              "7   Rejected\n",
              "8   Rejected\n",
              "9   Rejected\n",
              "10  Rejected\n",
              "11  Rejected"
            ],
            "text/html": [
              "\n",
              "  <div id=\"df-61859886-fd6b-4b21-9809-cab454fd787f\">\n",
              "    <div class=\"colab-df-container\">\n",
              "      <div>\n",
              "<style scoped>\n",
              "    .dataframe tbody tr th:only-of-type {\n",
              "        vertical-align: middle;\n",
              "    }\n",
              "\n",
              "    .dataframe tbody tr th {\n",
              "        vertical-align: top;\n",
              "    }\n",
              "\n",
              "    .dataframe thead th {\n",
              "        text-align: right;\n",
              "    }\n",
              "</style>\n",
              "<table border=\"1\" class=\"dataframe\">\n",
              "  <thead>\n",
              "    <tr style=\"text-align: right;\">\n",
              "      <th></th>\n",
              "      <th>Status</th>\n",
              "    </tr>\n",
              "  </thead>\n",
              "  <tbody>\n",
              "    <tr>\n",
              "      <th>0</th>\n",
              "      <td>Rejected</td>\n",
              "    </tr>\n",
              "    <tr>\n",
              "      <th>1</th>\n",
              "      <td>Approved</td>\n",
              "    </tr>\n",
              "    <tr>\n",
              "      <th>2</th>\n",
              "      <td>Approved</td>\n",
              "    </tr>\n",
              "    <tr>\n",
              "      <th>3</th>\n",
              "      <td>Rejected</td>\n",
              "    </tr>\n",
              "    <tr>\n",
              "      <th>4</th>\n",
              "      <td>Approved</td>\n",
              "    </tr>\n",
              "    <tr>\n",
              "      <th>5</th>\n",
              "      <td>Rejected</td>\n",
              "    </tr>\n",
              "    <tr>\n",
              "      <th>6</th>\n",
              "      <td>Approved</td>\n",
              "    </tr>\n",
              "    <tr>\n",
              "      <th>7</th>\n",
              "      <td>Rejected</td>\n",
              "    </tr>\n",
              "    <tr>\n",
              "      <th>8</th>\n",
              "      <td>Rejected</td>\n",
              "    </tr>\n",
              "    <tr>\n",
              "      <th>9</th>\n",
              "      <td>Rejected</td>\n",
              "    </tr>\n",
              "    <tr>\n",
              "      <th>10</th>\n",
              "      <td>Rejected</td>\n",
              "    </tr>\n",
              "    <tr>\n",
              "      <th>11</th>\n",
              "      <td>Rejected</td>\n",
              "    </tr>\n",
              "  </tbody>\n",
              "</table>\n",
              "</div>\n",
              "      <button class=\"colab-df-convert\" onclick=\"convertToInteractive('df-61859886-fd6b-4b21-9809-cab454fd787f')\"\n",
              "              title=\"Convert this dataframe to an interactive table.\"\n",
              "              style=\"display:none;\">\n",
              "        \n",
              "  <svg xmlns=\"http://www.w3.org/2000/svg\" height=\"24px\"viewBox=\"0 0 24 24\"\n",
              "       width=\"24px\">\n",
              "    <path d=\"M0 0h24v24H0V0z\" fill=\"none\"/>\n",
              "    <path d=\"M18.56 5.44l.94 2.06.94-2.06 2.06-.94-2.06-.94-.94-2.06-.94 2.06-2.06.94zm-11 1L8.5 8.5l.94-2.06 2.06-.94-2.06-.94L8.5 2.5l-.94 2.06-2.06.94zm10 10l.94 2.06.94-2.06 2.06-.94-2.06-.94-.94-2.06-.94 2.06-2.06.94z\"/><path d=\"M17.41 7.96l-1.37-1.37c-.4-.4-.92-.59-1.43-.59-.52 0-1.04.2-1.43.59L10.3 9.45l-7.72 7.72c-.78.78-.78 2.05 0 2.83L4 21.41c.39.39.9.59 1.41.59.51 0 1.02-.2 1.41-.59l7.78-7.78 2.81-2.81c.8-.78.8-2.07 0-2.86zM5.41 20L4 18.59l7.72-7.72 1.47 1.35L5.41 20z\"/>\n",
              "  </svg>\n",
              "      </button>\n",
              "      \n",
              "  <style>\n",
              "    .colab-df-container {\n",
              "      display:flex;\n",
              "      flex-wrap:wrap;\n",
              "      gap: 12px;\n",
              "    }\n",
              "\n",
              "    .colab-df-convert {\n",
              "      background-color: #E8F0FE;\n",
              "      border: none;\n",
              "      border-radius: 50%;\n",
              "      cursor: pointer;\n",
              "      display: none;\n",
              "      fill: #1967D2;\n",
              "      height: 32px;\n",
              "      padding: 0 0 0 0;\n",
              "      width: 32px;\n",
              "    }\n",
              "\n",
              "    .colab-df-convert:hover {\n",
              "      background-color: #E2EBFA;\n",
              "      box-shadow: 0px 1px 2px rgba(60, 64, 67, 0.3), 0px 1px 3px 1px rgba(60, 64, 67, 0.15);\n",
              "      fill: #174EA6;\n",
              "    }\n",
              "\n",
              "    [theme=dark] .colab-df-convert {\n",
              "      background-color: #3B4455;\n",
              "      fill: #D2E3FC;\n",
              "    }\n",
              "\n",
              "    [theme=dark] .colab-df-convert:hover {\n",
              "      background-color: #434B5C;\n",
              "      box-shadow: 0px 1px 3px 1px rgba(0, 0, 0, 0.15);\n",
              "      filter: drop-shadow(0px 1px 2px rgba(0, 0, 0, 0.3));\n",
              "      fill: #FFFFFF;\n",
              "    }\n",
              "  </style>\n",
              "\n",
              "      <script>\n",
              "        const buttonEl =\n",
              "          document.querySelector('#df-61859886-fd6b-4b21-9809-cab454fd787f button.colab-df-convert');\n",
              "        buttonEl.style.display =\n",
              "          google.colab.kernel.accessAllowed ? 'block' : 'none';\n",
              "\n",
              "        async function convertToInteractive(key) {\n",
              "          const element = document.querySelector('#df-61859886-fd6b-4b21-9809-cab454fd787f');\n",
              "          const dataTable =\n",
              "            await google.colab.kernel.invokeFunction('convertToInteractive',\n",
              "                                                     [key], {});\n",
              "          if (!dataTable) return;\n",
              "\n",
              "          const docLinkHtml = 'Like what you see? Visit the ' +\n",
              "            '<a target=\"_blank\" href=https://colab.research.google.com/notebooks/data_table.ipynb>data table notebook</a>'\n",
              "            + ' to learn more about interactive tables.';\n",
              "          element.innerHTML = '';\n",
              "          dataTable['output_type'] = 'display_data';\n",
              "          await google.colab.output.renderOutput(dataTable, element);\n",
              "          const docLink = document.createElement('div');\n",
              "          docLink.innerHTML = docLinkHtml;\n",
              "          element.appendChild(docLink);\n",
              "        }\n",
              "      </script>\n",
              "    </div>\n",
              "  </div>\n",
              "  "
            ]
          },
          "metadata": {},
          "execution_count": 15
        }
      ]
    }
  ]
}